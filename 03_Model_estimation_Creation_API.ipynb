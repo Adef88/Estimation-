{
 "cells": [
  {
   "cell_type": "code",
   "execution_count": 23,
   "id": "f40ef0d3-f5d7-47d0-8735-2fcf1a749a12",
   "metadata": {},
   "outputs": [],
   "source": [
    "#Importation de l'intégralité des outils nécessaire à l'usage du model\n",
    "import numpy as np\n",
    "from sklearn.linear_model import LogisticRegression, LinearRegression\n",
    "from sklearn.neighbors import KNeighborsClassifier\n",
    "from sklearn.svm import SVR\n",
    "import pandas as pd\n",
    "import seaborn as sns\n",
    "import matplotlib as plt\n",
    "from sklearn.model_selection import train_test_split\n",
    "import joblib\n",
    "import pickle\n",
    "from flask import Flask, request, jsonify\n",
    "from pydantic import BaseModel\n",
    "from fastapi import FastAPI"
   ]
  },
  {
   "cell_type": "code",
   "execution_count": 22,
   "id": "c2618c25-2fdf-4fa1-8a45-b3c8f66d54cd",
   "metadata": {},
   "outputs": [
    {
     "name": "stdout",
     "output_type": "stream",
     "text": [
      "Collecting fastapi[all]\n",
      "  Downloading fastapi-0.115.6-py3-none-any.whl.metadata (27 kB)\n",
      "Collecting starlette<0.42.0,>=0.40.0 (from fastapi[all])\n",
      "  Downloading starlette-0.41.3-py3-none-any.whl.metadata (6.0 kB)\n",
      "Requirement already satisfied: pydantic!=1.8,!=1.8.1,!=2.0.0,!=2.0.1,!=2.1.0,<3.0.0,>=1.7.4 in c:\\users\\8707929r\\appdata\\local\\anaconda3\\anaconda 3\\lib\\site-packages (from fastapi[all]) (2.8.2)\n",
      "Requirement already satisfied: typing-extensions>=4.8.0 in c:\\users\\8707929r\\appdata\\local\\anaconda3\\anaconda 3\\lib\\site-packages (from fastapi[all]) (4.11.0)\n",
      "Collecting fastapi-cli>=0.0.5 (from fastapi-cli[standard]>=0.0.5; extra == \"all\"->fastapi[all])\n",
      "  Downloading fastapi_cli-0.0.7-py3-none-any.whl.metadata (6.2 kB)\n",
      "Requirement already satisfied: httpx>=0.23.0 in c:\\users\\8707929r\\appdata\\local\\anaconda3\\anaconda 3\\lib\\site-packages (from fastapi[all]) (0.27.0)\n",
      "Requirement already satisfied: jinja2>=2.11.2 in c:\\users\\8707929r\\appdata\\local\\anaconda3\\anaconda 3\\lib\\site-packages (from fastapi[all]) (3.1.4)\n",
      "Collecting python-multipart>=0.0.7 (from fastapi[all])\n",
      "  Downloading python_multipart-0.0.20-py3-none-any.whl.metadata (1.8 kB)\n",
      "Requirement already satisfied: itsdangerous>=1.1.0 in c:\\users\\8707929r\\appdata\\local\\anaconda3\\anaconda 3\\lib\\site-packages (from fastapi[all]) (2.2.0)\n",
      "Requirement already satisfied: pyyaml>=5.3.1 in c:\\users\\8707929r\\appdata\\local\\anaconda3\\anaconda 3\\lib\\site-packages (from fastapi[all]) (6.0.1)\n",
      "Requirement already satisfied: ujson!=4.0.2,!=4.1.0,!=4.2.0,!=4.3.0,!=5.0.0,!=5.1.0,>=4.0.1 in c:\\users\\8707929r\\appdata\\local\\anaconda3\\anaconda 3\\lib\\site-packages (from fastapi[all]) (5.10.0)\n",
      "Collecting orjson>=3.2.1 (from fastapi[all])\n",
      "  Downloading orjson-3.10.12-cp312-none-win_amd64.whl.metadata (42 kB)\n",
      "Collecting email-validator>=2.0.0 (from fastapi[all])\n",
      "  Downloading email_validator-2.2.0-py3-none-any.whl.metadata (25 kB)\n",
      "Collecting uvicorn>=0.12.0 (from uvicorn[standard]>=0.12.0; extra == \"all\"->fastapi[all])\n",
      "  Downloading uvicorn-0.34.0-py3-none-any.whl.metadata (6.5 kB)\n",
      "Collecting pydantic-settings>=2.0.0 (from fastapi[all])\n",
      "  Downloading pydantic_settings-2.7.0-py3-none-any.whl.metadata (3.5 kB)\n",
      "Collecting pydantic-extra-types>=2.0.0 (from fastapi[all])\n",
      "  Downloading pydantic_extra_types-2.10.1-py3-none-any.whl.metadata (3.5 kB)\n",
      "Collecting dnspython>=2.0.0 (from email-validator>=2.0.0->fastapi[all])\n",
      "  Downloading dnspython-2.7.0-py3-none-any.whl.metadata (5.8 kB)\n",
      "Requirement already satisfied: idna>=2.0.0 in c:\\users\\8707929r\\appdata\\local\\anaconda3\\anaconda 3\\lib\\site-packages (from email-validator>=2.0.0->fastapi[all]) (3.7)\n",
      "Collecting typer>=0.12.3 (from fastapi-cli>=0.0.5->fastapi-cli[standard]>=0.0.5; extra == \"all\"->fastapi[all])\n",
      "  Downloading typer-0.15.1-py3-none-any.whl.metadata (15 kB)\n",
      "Collecting rich-toolkit>=0.11.1 (from fastapi-cli>=0.0.5->fastapi-cli[standard]>=0.0.5; extra == \"all\"->fastapi[all])\n",
      "  Downloading rich_toolkit-0.12.0-py3-none-any.whl.metadata (966 bytes)\n",
      "Requirement already satisfied: anyio in c:\\users\\8707929r\\appdata\\local\\anaconda3\\anaconda 3\\lib\\site-packages (from httpx>=0.23.0->fastapi[all]) (4.2.0)\n",
      "Requirement already satisfied: certifi in c:\\users\\8707929r\\appdata\\local\\anaconda3\\anaconda 3\\lib\\site-packages (from httpx>=0.23.0->fastapi[all]) (2024.8.30)\n",
      "Requirement already satisfied: httpcore==1.* in c:\\users\\8707929r\\appdata\\local\\anaconda3\\anaconda 3\\lib\\site-packages (from httpx>=0.23.0->fastapi[all]) (1.0.2)\n",
      "Requirement already satisfied: sniffio in c:\\users\\8707929r\\appdata\\local\\anaconda3\\anaconda 3\\lib\\site-packages (from httpx>=0.23.0->fastapi[all]) (1.3.0)\n",
      "Requirement already satisfied: h11<0.15,>=0.13 in c:\\users\\8707929r\\appdata\\local\\anaconda3\\anaconda 3\\lib\\site-packages (from httpcore==1.*->httpx>=0.23.0->fastapi[all]) (0.14.0)\n",
      "Requirement already satisfied: MarkupSafe>=2.0 in c:\\users\\8707929r\\appdata\\local\\anaconda3\\anaconda 3\\lib\\site-packages (from jinja2>=2.11.2->fastapi[all]) (2.1.3)\n",
      "Requirement already satisfied: annotated-types>=0.4.0 in c:\\users\\8707929r\\appdata\\local\\anaconda3\\anaconda 3\\lib\\site-packages (from pydantic!=1.8,!=1.8.1,!=2.0.0,!=2.0.1,!=2.1.0,<3.0.0,>=1.7.4->fastapi[all]) (0.6.0)\n",
      "Requirement already satisfied: pydantic-core==2.20.1 in c:\\users\\8707929r\\appdata\\local\\anaconda3\\anaconda 3\\lib\\site-packages (from pydantic!=1.8,!=1.8.1,!=2.0.0,!=2.0.1,!=2.1.0,<3.0.0,>=1.7.4->fastapi[all]) (2.20.1)\n",
      "Requirement already satisfied: python-dotenv>=0.21.0 in c:\\users\\8707929r\\appdata\\local\\anaconda3\\anaconda 3\\lib\\site-packages (from pydantic-settings>=2.0.0->fastapi[all]) (0.21.0)\n",
      "Requirement already satisfied: click>=7.0 in c:\\users\\8707929r\\appdata\\local\\anaconda3\\anaconda 3\\lib\\site-packages (from uvicorn>=0.12.0->uvicorn[standard]>=0.12.0; extra == \"all\"->fastapi[all]) (8.1.7)\n",
      "Requirement already satisfied: colorama>=0.4 in c:\\users\\8707929r\\appdata\\local\\anaconda3\\anaconda 3\\lib\\site-packages (from uvicorn[standard]>=0.12.0; extra == \"all\"->fastapi[all]) (0.4.6)\n",
      "Collecting httptools>=0.6.3 (from uvicorn[standard]>=0.12.0; extra == \"all\"->fastapi[all])\n",
      "  Downloading httptools-0.6.4-cp312-cp312-win_amd64.whl.metadata (3.7 kB)\n",
      "Collecting watchfiles>=0.13 (from uvicorn[standard]>=0.12.0; extra == \"all\"->fastapi[all])\n",
      "  Downloading watchfiles-1.0.3-cp312-cp312-win_amd64.whl.metadata (5.0 kB)\n",
      "Collecting websockets>=10.4 (from uvicorn[standard]>=0.12.0; extra == \"all\"->fastapi[all])\n",
      "  Downloading websockets-14.1-cp312-cp312-win_amd64.whl.metadata (6.9 kB)\n",
      "Requirement already satisfied: rich>=13.7.1 in c:\\users\\8707929r\\appdata\\local\\anaconda3\\anaconda 3\\lib\\site-packages (from rich-toolkit>=0.11.1->fastapi-cli>=0.0.5->fastapi-cli[standard]>=0.0.5; extra == \"all\"->fastapi[all]) (13.7.1)\n",
      "Collecting typing-extensions>=4.8.0 (from fastapi[all])\n",
      "  Downloading typing_extensions-4.12.2-py3-none-any.whl.metadata (3.0 kB)\n",
      "Collecting shellingham>=1.3.0 (from typer>=0.12.3->fastapi-cli>=0.0.5->fastapi-cli[standard]>=0.0.5; extra == \"all\"->fastapi[all])\n",
      "  Downloading shellingham-1.5.4-py2.py3-none-any.whl.metadata (3.5 kB)\n",
      "Requirement already satisfied: markdown-it-py>=2.2.0 in c:\\users\\8707929r\\appdata\\local\\anaconda3\\anaconda 3\\lib\\site-packages (from rich>=13.7.1->rich-toolkit>=0.11.1->fastapi-cli>=0.0.5->fastapi-cli[standard]>=0.0.5; extra == \"all\"->fastapi[all]) (2.2.0)\n",
      "Requirement already satisfied: pygments<3.0.0,>=2.13.0 in c:\\users\\8707929r\\appdata\\local\\anaconda3\\anaconda 3\\lib\\site-packages (from rich>=13.7.1->rich-toolkit>=0.11.1->fastapi-cli>=0.0.5->fastapi-cli[standard]>=0.0.5; extra == \"all\"->fastapi[all]) (2.15.1)\n",
      "Requirement already satisfied: mdurl~=0.1 in c:\\users\\8707929r\\appdata\\local\\anaconda3\\anaconda 3\\lib\\site-packages (from markdown-it-py>=2.2.0->rich>=13.7.1->rich-toolkit>=0.11.1->fastapi-cli>=0.0.5->fastapi-cli[standard]>=0.0.5; extra == \"all\"->fastapi[all]) (0.1.0)\n",
      "Downloading email_validator-2.2.0-py3-none-any.whl (33 kB)\n",
      "Downloading fastapi_cli-0.0.7-py3-none-any.whl (10 kB)\n",
      "Downloading orjson-3.10.12-cp312-none-win_amd64.whl (135 kB)\n",
      "Downloading pydantic_extra_types-2.10.1-py3-none-any.whl (35 kB)\n",
      "Downloading pydantic_settings-2.7.0-py3-none-any.whl (29 kB)\n",
      "Downloading python_multipart-0.0.20-py3-none-any.whl (24 kB)\n",
      "Downloading starlette-0.41.3-py3-none-any.whl (73 kB)\n",
      "Downloading uvicorn-0.34.0-py3-none-any.whl (62 kB)\n",
      "Downloading fastapi-0.115.6-py3-none-any.whl (94 kB)\n",
      "Downloading dnspython-2.7.0-py3-none-any.whl (313 kB)\n",
      "Downloading httptools-0.6.4-cp312-cp312-win_amd64.whl (88 kB)\n",
      "Downloading rich_toolkit-0.12.0-py3-none-any.whl (13 kB)\n",
      "Downloading typing_extensions-4.12.2-py3-none-any.whl (37 kB)\n",
      "Downloading typer-0.15.1-py3-none-any.whl (44 kB)\n",
      "Downloading watchfiles-1.0.3-cp312-cp312-win_amd64.whl (285 kB)\n",
      "Downloading websockets-14.1-cp312-cp312-win_amd64.whl (163 kB)\n",
      "Downloading shellingham-1.5.4-py2.py3-none-any.whl (9.8 kB)\n",
      "Installing collected packages: websockets, typing-extensions, shellingham, python-multipart, orjson, httptools, dnspython, watchfiles, uvicorn, starlette, email-validator, typer, rich-toolkit, pydantic-settings, pydantic-extra-types, fastapi-cli, fastapi\n",
      "  Attempting uninstall: typing-extensions\n",
      "    Found existing installation: typing_extensions 4.11.0\n",
      "    Uninstalling typing_extensions-4.11.0:\n",
      "      Successfully uninstalled typing_extensions-4.11.0\n",
      "Successfully installed dnspython-2.7.0 email-validator-2.2.0 fastapi-0.115.6 fastapi-cli-0.0.7 httptools-0.6.4 orjson-3.10.12 pydantic-extra-types-2.10.1 pydantic-settings-2.7.0 python-multipart-0.0.20 rich-toolkit-0.12.0 shellingham-1.5.4 starlette-0.41.3 typer-0.15.1 typing-extensions-4.12.2 uvicorn-0.34.0 watchfiles-1.0.3 websockets-14.1\n",
      "Note: you may need to restart the kernel to use updated packages.\n"
     ]
    }
   ],
   "source": [
    "pip install \"fastapi[all]\""
   ]
  },
  {
   "cell_type": "code",
   "execution_count": 24,
   "id": "8fdfeaf3-eac6-41d3-9e9b-03545f68ee49",
   "metadata": {},
   "outputs": [],
   "source": [
    "#Activer une API avec Fast API\n",
    "app = FastAPI()"
   ]
  },
  {
   "cell_type": "code",
   "execution_count": 25,
   "id": "6c8b5571-ea93-4d5b-80ff-000478adb002",
   "metadata": {},
   "outputs": [],
   "source": [
    "#Importer un model avec Pickle\n",
    "import pickle\n",
    "# Charger le modèle\n",
    "with open('estimation.pkl', 'rb') as f:\n",
    "    model = pickle.load(f)"
   ]
  },
  {
   "cell_type": "code",
   "execution_count": 26,
   "id": "8710c507-8874-4d8b-ad55-9093f132aed4",
   "metadata": {},
   "outputs": [],
   "source": [
    "#Définir le type de donnée attendue\n",
    "class HouseFeatures(BaseModel):\n",
    "    Square_Feet: float\n",
    "    Num_Bedrooms: int\n",
    "    Num_Bathrooms: int\n",
    "    Num_Floors: int\n",
    "    Has_Garden: bool\n",
    "    Has_Pool: bool\n",
    "    Garage_Size: int\n",
    "    Distance_to_Center: float"
   ]
  },
  {
   "cell_type": "code",
   "execution_count": 34,
   "id": "5a63cfaf-4c9b-4629-8717-2c64fb87e9a9",
   "metadata": {},
   "outputs": [],
   "source": [
    "@app.post(\"/estimate/\")\n",
    "def estimate(features: HouseFeatures):\n",
    "    try:\n",
    "        # Préparation des données\n",
    "        input_data = np.array([\n",
    "            features.Square_Feet, features.Num_Bedrooms, features.Num_Bathrooms,\n",
    "            features.Num_Floors, features.Year_Built, features.Has_Garden,\n",
    "            features.Has_Pool, features.Garage_Size, features.Distance_to_Center\n",
    "        ]).reshape(1, -1)\n",
    "        \n",
    "        # Prédiction\n",
    "        estimation_value = model.predict(input_data)\n",
    "        \n",
    "        return {\"estimation\": round(estimation_value[0], 2)}\n",
    "    except Exception as e:\n",
    "        return {\"error\": str(e)}\n",
    "        return jsonify({'estimation': prediction.tolist()})\n",
    "        "
   ]
  },
  {
   "cell_type": "code",
   "execution_count": 36,
   "id": "13a899d2-b598-4110-8c83-8a83281c5344",
   "metadata": {},
   "outputs": [
    {
     "name": "stdout",
     "output_type": "stream",
     "text": [
      "Note: you may need to restart the kernel to use updated packages.\n"
     ]
    }
   ],
   "source": [
    "pip freeze > requirements.txt"
   ]
  },
  {
   "cell_type": "code",
   "execution_count": null,
   "id": "a33d4086-bb99-4473-8233-1b88d0912cf7",
   "metadata": {},
   "outputs": [],
   "source": []
  }
 ],
 "metadata": {
  "kernelspec": {
   "display_name": "Python 3 (ipykernel)",
   "language": "python",
   "name": "python3"
  },
  "language_info": {
   "codemirror_mode": {
    "name": "ipython",
    "version": 3
   },
   "file_extension": ".py",
   "mimetype": "text/x-python",
   "name": "python",
   "nbconvert_exporter": "python",
   "pygments_lexer": "ipython3",
   "version": "3.12.7"
  }
 },
 "nbformat": 4,
 "nbformat_minor": 5
}
